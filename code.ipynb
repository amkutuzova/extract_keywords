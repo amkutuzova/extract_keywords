{
  "nbformat": 4,
  "nbformat_minor": 0,
  "metadata": {
    "colab": {
      "provenance": [],
      "authorship_tag": "ABX9TyP7qa0hcy/heC+vdAmglByw",
      "include_colab_link": true
    },
    "kernelspec": {
      "name": "python3",
      "display_name": "Python 3"
    },
    "language_info": {
      "name": "python"
    }
  },
  "cells": [
    {
      "cell_type": "markdown",
      "metadata": {
        "id": "view-in-github",
        "colab_type": "text"
      },
      "source": [
        "<a href=\"https://colab.research.google.com/github/amkutuzova/extract_keywords/blob/main/code.ipynb\" target=\"_parent\"><img src=\"https://colab.research.google.com/assets/colab-badge.svg\" alt=\"Open In Colab\"/></a>"
      ]
    },
    {
      "cell_type": "code",
      "execution_count": null,
      "metadata": {
        "id": "Gw2pFuVrgoGo"
      },
      "outputs": [],
      "source": [
        "import yake\n",
        "import pandas as pd\n",
        "\n",
        "def find_keywords(file_name):\n",
        "    df = pd.read_csv(file_name)\n",
        "\n",
        "    review = df['normalized_text']\n",
        "    review = review.to_string()\n",
        "\n",
        "    def keywords_search(review):\n",
        "        kw_extractor = yake.KeywordExtractor()\n",
        "        keywords = kw_extractor.extract_keywords(review)\n",
        "        for kw in keywords:\n",
        "            return [(kw[0], kw[1])]\n",
        "\n",
        "    df['key_words'] = df['normalized_text'].apply(keywords_search)\n",
        "\n",
        "    return df"
      ]
    }
  ]
}